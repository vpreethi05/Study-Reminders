{
 "cells": [
  {
   "cell_type": "code",
   "execution_count": 5,
   "id": "45a533e3-c3cf-408b-ac9c-f620f3bf386a",
   "metadata": {},
   "outputs": [
    {
     "name": "stdout",
     "output_type": "stream",
     "text": [
      "C:\\Users\\vpree\\ACIT4420_Assignment2\n"
     ]
    }
   ],
   "source": [
    "%cd C:\\Users\\vpree\\ACIT4420_Assignment2\n"
   ]
  },
  {
   "cell_type": "code",
   "execution_count": 9,
   "id": "38f5d285-ed14-4e8c-87e0-024ac59168e4",
   "metadata": {},
   "outputs": [
    {
     "name": "stdout",
     "output_type": "stream",
     "text": [
      "Requirement already satisfied: schedule in c:\\users\\vpree\\anaconda3\\lib\\site-packages (1.2.2)\n"
     ]
    }
   ],
   "source": [
    "!pip install schedule"
   ]
  },
  {
   "cell_type": "code",
   "execution_count": 13,
   "id": "6fc01bab-7549-4f75-a76d-59cd8cc68399",
   "metadata": {},
   "outputs": [
    {
     "name": "stdout",
     "output_type": "stream",
     "text": [
      "Name: schedule\n",
      "Version: 1.2.2\n",
      "Summary: Job scheduling for humans.\n",
      "Home-page: https://github.com/dbader/schedule\n",
      "Author: Daniel Bader\n",
      "Author-email: mail@dbader.org\n",
      "License: MIT License\n",
      "Location: C:\\Users\\vpree\\anaconda3\\Lib\\site-packages\n",
      "Requires: \n",
      "Required-by: \n",
      "Note: you may need to restart the kernel to use updated packages.\n"
     ]
    }
   ],
   "source": [
    "pip show schedule\n"
   ]
  },
  {
   "cell_type": "code",
   "execution_count": 27,
   "id": "41860588-cefa-4b38-97f1-aa44e0f4e9dc",
   "metadata": {},
   "outputs": [
    {
     "name": "stdout",
     "output_type": "stream",
     "text": [
      "C:\\Users\\vpree\\ACIT4420_Assignment2\n"
     ]
    }
   ],
   "source": [
    "%cd C:\\Users\\vpree\\ACIT4420_Assignment2\n"
   ]
  },
  {
   "cell_type": "code",
   "execution_count": 29,
   "id": "c1cbf1d7-6ce0-4be1-abbb-e347370fe002",
   "metadata": {},
   "outputs": [
    {
     "name": "stdout",
     "output_type": "stream",
     "text": [
      "Sending reminder to alice@example.com: Hi Alice, remember to review Python Scripting materials before the deadline!\n",
      "Sending reminder to bob@example.com: Hi Bob, remember to review Data Science materials before the deadline!\n",
      "Sending reminder to charlie@example.com: Hi Charlie, remember to review AI Basics materials before the deadline!\n",
      "Scheduler started (simulated for 30 seconds)...\n",
      "Scheduler stopped (test complete).\n"
     ]
    }
   ],
   "source": [
    "!python main.py"
   ]
  },
  {
   "cell_type": "code",
   "execution_count": 31,
   "id": "8536c676-ba08-4f0c-9a6a-20488d938baa",
   "metadata": {},
   "outputs": [
    {
     "name": "stdout",
     "output_type": "stream",
     "text": [
      "Sending reminder to test@example.com: Reminder message\n"
     ]
    },
    {
     "name": "stderr",
     "output_type": "stream",
     "text": [
      "test_logger_creates_file (test.TestStudyReminders.test_logger_creates_file) ... ok\n",
      "test_reminder_generator (test.TestStudyReminders.test_reminder_generator) ... ok\n",
      "test_reminder_sender (test.TestStudyReminders.test_reminder_sender) ... ok\n",
      "test_students_add_and_remove (test.TestStudyReminders.test_students_add_and_remove) ... ok\n",
      "test_students_manager_load_and_save (test.TestStudyReminders.test_students_manager_load_and_save) ... ok\n",
      "\n",
      "----------------------------------------------------------------------\n",
      "Ran 5 tests in 0.003s\n",
      "\n",
      "OK\n"
     ]
    }
   ],
   "source": [
    "!python -m unittest -v test.py\n"
   ]
  },
  {
   "cell_type": "code",
   "execution_count": null,
   "id": "812112a9-6e4b-459a-9aa2-dcc52d93a196",
   "metadata": {},
   "outputs": [],
   "source": []
  }
 ],
 "metadata": {
  "kernelspec": {
   "display_name": "Python 3 (ipykernel)",
   "language": "python",
   "name": "python3"
  },
  "language_info": {
   "codemirror_mode": {
    "name": "ipython",
    "version": 3
   },
   "file_extension": ".py",
   "mimetype": "text/x-python",
   "name": "python",
   "nbconvert_exporter": "python",
   "pygments_lexer": "ipython3",
   "version": "3.12.4"
  }
 },
 "nbformat": 4,
 "nbformat_minor": 5
}
